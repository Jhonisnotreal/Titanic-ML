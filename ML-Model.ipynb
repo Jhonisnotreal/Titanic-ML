{
 "cells": [
  {
   "cell_type": "code",
   "execution_count": null,
   "metadata": {},
   "outputs": [],
   "source": [
    "import numpy as np\n",
    "from plotnine import *\n",
    "from siuba import *\n",
    "from sklearn.model_selection import train_test_split\n",
    "from sklearn.linear_model import LinearRegression\n",
    "from sklearn import metrics"
   ]
  },
  {
   "cell_type": "code",
   "execution_count": null,
   "metadata": {},
   "outputs": [],
   "source": [
    "def evaluar_regresion(independent,nco,tabla_full):\n",
    "    n = independent.shape[0]\n",
    "    k = independent.shape[1]\n",
    "    mae = metrics.mean_absolute_error(tabla_full[nco],tabla_full[\"predicciones\"])\n",
    "    rmse = np.sqrt(metrics.mean_squared_error(tabla_full[nco],tabla_full[\"predicciones\"]))\n",
    "    r2 = metrics.r2_score(tabla_full[nco],tabla_full[\"predicciones\"])\n",
    "    r2_adj = 1-(1-r2)*(n-1)/(n-k-1)\n",
    "    return {\"r2_adj\":r2_adj,\"mae\":mae,\"rmse\":rmse}"
   ]
  },
  {
   "cell_type": "code",
   "execution_count": null,
   "metadata": {},
   "outputs": [],
   "source": [
    "# independent_vars"
   ]
  }
 ],
 "metadata": {
  "language_info": {
   "name": "python"
  }
 },
 "nbformat": 4,
 "nbformat_minor": 2
}
